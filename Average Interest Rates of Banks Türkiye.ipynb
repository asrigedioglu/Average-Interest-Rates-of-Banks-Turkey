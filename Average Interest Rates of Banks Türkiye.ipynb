{
 "cells": [
  {
   "cell_type": "code",
   "execution_count": 4,
   "id": "baf37488",
   "metadata": {},
   "outputs": [],
   "source": [
    "import numpy as np\n",
    "import pandas as pd\n",
    "import matplotlib.pyplot as plt\n",
    "import seaborn as sbn"
   ]
  },
  {
   "cell_type": "code",
   "execution_count": 5,
   "id": "f8fd79a7",
   "metadata": {},
   "outputs": [],
   "source": [
    "dataframe = pd.read_csv(\"Weighted_Average_Interest_Rates_Applied_to_Bank_Loans.csv\")"
   ]
  },
  {
   "cell_type": "code",
   "execution_count": 6,
   "id": "6661a792",
   "metadata": {},
   "outputs": [],
   "source": [
    "df=dataframe.copy()"
   ]
  },
  {
   "cell_type": "code",
   "execution_count": 7,
   "id": "e8a2ad66",
   "metadata": {},
   "outputs": [
    {
     "data": {
      "text/html": [
       "<div>\n",
       "<style scoped>\n",
       "    .dataframe tbody tr th:only-of-type {\n",
       "        vertical-align: middle;\n",
       "    }\n",
       "\n",
       "    .dataframe tbody tr th {\n",
       "        vertical-align: top;\n",
       "    }\n",
       "\n",
       "    .dataframe thead th {\n",
       "        text-align: right;\n",
       "    }\n",
       "</style>\n",
       "<table border=\"1\" class=\"dataframe\">\n",
       "  <thead>\n",
       "    <tr style=\"text-align: right;\">\n",
       "      <th></th>\n",
       "      <th>Unnamed: 0</th>\n",
       "      <th>Date</th>\n",
       "      <th>Personal Finance Credit</th>\n",
       "      <th>Overdraft Account</th>\n",
       "      <th>Auto Credit</th>\n",
       "      <th>Home Credit</th>\n",
       "      <th>Commercial Credit</th>\n",
       "      <th>Commercial Credit (EUR)</th>\n",
       "      <th>Commercial Credit (USD)</th>\n",
       "      <th>Consumer Credit</th>\n",
       "    </tr>\n",
       "  </thead>\n",
       "  <tbody>\n",
       "    <tr>\n",
       "      <th>0</th>\n",
       "      <td>0</td>\n",
       "      <td>04-01-2013</td>\n",
       "      <td>13,90</td>\n",
       "      <td>36,85</td>\n",
       "      <td>10,56</td>\n",
       "      <td>9,90</td>\n",
       "      <td>12,62</td>\n",
       "      <td>4,64</td>\n",
       "      <td>4,54</td>\n",
       "      <td>11,99</td>\n",
       "    </tr>\n",
       "    <tr>\n",
       "      <th>1</th>\n",
       "      <td>1</td>\n",
       "      <td>11-01-2013</td>\n",
       "      <td>14,18</td>\n",
       "      <td>35,36</td>\n",
       "      <td>11,16</td>\n",
       "      <td>9,78</td>\n",
       "      <td>12,02</td>\n",
       "      <td>4,39</td>\n",
       "      <td>4,06</td>\n",
       "      <td>12,02</td>\n",
       "    </tr>\n",
       "    <tr>\n",
       "      <th>2</th>\n",
       "      <td>2</td>\n",
       "      <td>18-01-2013</td>\n",
       "      <td>14,17</td>\n",
       "      <td>33,73</td>\n",
       "      <td>11,34</td>\n",
       "      <td>9,76</td>\n",
       "      <td>11,94</td>\n",
       "      <td>4,29</td>\n",
       "      <td>4,19</td>\n",
       "      <td>12,09</td>\n",
       "    </tr>\n",
       "    <tr>\n",
       "      <th>3</th>\n",
       "      <td>3</td>\n",
       "      <td>25-01-2013</td>\n",
       "      <td>13,97</td>\n",
       "      <td>30,01</td>\n",
       "      <td>11,17</td>\n",
       "      <td>9,66</td>\n",
       "      <td>11,62</td>\n",
       "      <td>3,92</td>\n",
       "      <td>4,09</td>\n",
       "      <td>12,07</td>\n",
       "    </tr>\n",
       "  </tbody>\n",
       "</table>\n",
       "</div>"
      ],
      "text/plain": [
       "   Unnamed: 0        Date Personal Finance Credit Overdraft Account  \\\n",
       "0           0  04-01-2013                   13,90             36,85   \n",
       "1           1  11-01-2013                   14,18             35,36   \n",
       "2           2  18-01-2013                   14,17             33,73   \n",
       "3           3  25-01-2013                   13,97             30,01   \n",
       "\n",
       "  Auto Credit Home Credit Commercial Credit Commercial Credit (EUR)  \\\n",
       "0       10,56        9,90             12,62                    4,64   \n",
       "1       11,16        9,78             12,02                    4,39   \n",
       "2       11,34        9,76             11,94                    4,29   \n",
       "3       11,17        9,66             11,62                    3,92   \n",
       "\n",
       "  Commercial Credit (USD) Consumer Credit  \n",
       "0                    4,54           11,99  \n",
       "1                    4,06           12,02  \n",
       "2                    4,19           12,09  \n",
       "3                    4,09           12,07  "
      ]
     },
     "execution_count": 7,
     "metadata": {},
     "output_type": "execute_result"
    }
   ],
   "source": [
    "df.head(4)"
   ]
  },
  {
   "cell_type": "code",
   "execution_count": 8,
   "id": "8399ac99",
   "metadata": {},
   "outputs": [
    {
     "data": {
      "text/plain": [
       "Index(['Unnamed: 0', 'Date', 'Personal Finance Credit', 'Overdraft Account',\n",
       "       'Auto Credit', 'Home Credit', 'Commercial Credit',\n",
       "       'Commercial Credit (EUR)', 'Commercial Credit (USD)',\n",
       "       'Consumer Credit'],\n",
       "      dtype='object')"
      ]
     },
     "execution_count": 8,
     "metadata": {},
     "output_type": "execute_result"
    }
   ],
   "source": [
    "df.columns\n"
   ]
  },
  {
   "cell_type": "markdown",
   "id": "056b9d5b",
   "metadata": {},
   "source": [
    "# DATA TEMİZLİĞİ"
   ]
  },
  {
   "cell_type": "markdown",
   "id": "4a76c10d",
   "metadata": {},
   "source": [
    "Öncelikle Data içinden istenmeyen kolonlar drop edilir.inplace=True ile kalıcı hale getirilir.\n",
    "\n",
    "Data'daki virgüller, nokta ile yer değiştirir.\n",
    "\n",
    "Data'daki \"Date\" datetime formatı ile uygun formata çevrilir.\n",
    "\n",
    "Date_Format kolonu içinden Year ve Month verileri çekilir."
   ]
  },
  {
   "cell_type": "code",
   "execution_count": 43,
   "id": "aef05635",
   "metadata": {},
   "outputs": [],
   "source": [
    "df.drop(\"Unnamed: 0\",axis=1,inplace=True)"
   ]
  },
  {
   "cell_type": "code",
   "execution_count": 44,
   "id": "92468941",
   "metadata": {},
   "outputs": [
    {
     "name": "stderr",
     "output_type": "stream",
     "text": [
      "C:\\Users\\Lenovo\\AppData\\Local\\Temp\\ipykernel_9848\\490844202.py:1: UserWarning: Parsing dates in DD/MM/YYYY format when dayfirst=False (the default) was specified. This may lead to inconsistently parsed dates! Specify a format to ensure consistent parsing.\n",
      "  df[\"Date_Format\"]=df.Date.apply(pd.to_datetime)\n"
     ]
    }
   ],
   "source": [
    "df[\"Date_Format\"]=df.Date.apply(pd.to_datetime)"
   ]
  },
  {
   "cell_type": "code",
   "execution_count": 118,
   "id": "4caff8db",
   "metadata": {},
   "outputs": [],
   "source": [
    "df[\"Personal Finance Credit\"]=df[\"Personal Finance Credit\"].replace(\",\",\".\")\n",
    "df[\"Overdraft Account\"]=df[\"Overdraft Account\"].str.replace(\",\",\".\")\n",
    "df[\"Auto Credit\"]=df[\"Auto Credit\"].replace(\",\",\".\")\n",
    "df[\"Home Credit\"]=df[\"Home Credit\"].replace(\",\",\".\")\n",
    "df[\"Commercial Credit\"]=df[\"Commercial Credit\"].replace(\",\",\".\")\n",
    "df[\"Commercial Credit (EUR)\"]=df[\"Commercial Credit (EUR)\"].str.replace(\",\",\".\")\n",
    "df[\"Commercial Credit (USD)\"]=df[\"Commercial Credit (USD)\"].str.replace(\",\",\".\")\n",
    "df[\"Consumer Credit\"]=df[\"Consumer Credit\"].replace(\",\",\".\")\n"
   ]
  },
  {
   "cell_type": "code",
   "execution_count": 111,
   "id": "6e167147",
   "metadata": {},
   "outputs": [],
   "source": [
    "df[\"Year\"]= df.Date_Format.dt.year\n",
    "df[\"Month\"]=df.Date_Format.dt.month"
   ]
  },
  {
   "cell_type": "code",
   "execution_count": 119,
   "id": "4f1c705e",
   "metadata": {},
   "outputs": [
    {
     "data": {
      "text/html": [
       "<div>\n",
       "<style scoped>\n",
       "    .dataframe tbody tr th:only-of-type {\n",
       "        vertical-align: middle;\n",
       "    }\n",
       "\n",
       "    .dataframe tbody tr th {\n",
       "        vertical-align: top;\n",
       "    }\n",
       "\n",
       "    .dataframe thead th {\n",
       "        text-align: right;\n",
       "    }\n",
       "</style>\n",
       "<table border=\"1\" class=\"dataframe\">\n",
       "  <thead>\n",
       "    <tr style=\"text-align: right;\">\n",
       "      <th></th>\n",
       "      <th>Date</th>\n",
       "      <th>Personal Finance Credit</th>\n",
       "      <th>Overdraft Account</th>\n",
       "      <th>Auto Credit</th>\n",
       "      <th>Home Credit</th>\n",
       "      <th>Commercial Credit</th>\n",
       "      <th>Commercial Credit (EUR)</th>\n",
       "      <th>Commercial Credit (USD)</th>\n",
       "      <th>Consumer Credit</th>\n",
       "      <th>Date_Format</th>\n",
       "      <th>Year</th>\n",
       "      <th>Month</th>\n",
       "      <th>Month_Name</th>\n",
       "    </tr>\n",
       "  </thead>\n",
       "  <tbody>\n",
       "    <tr>\n",
       "      <th>0</th>\n",
       "      <td>04-01-2013</td>\n",
       "      <td>13.90</td>\n",
       "      <td>36.85</td>\n",
       "      <td>10.56</td>\n",
       "      <td>9.90</td>\n",
       "      <td>12.62</td>\n",
       "      <td>4.64</td>\n",
       "      <td>4.54</td>\n",
       "      <td>11.99</td>\n",
       "      <td>2013-04-01</td>\n",
       "      <td>2013</td>\n",
       "      <td>4</td>\n",
       "      <td>Nisan</td>\n",
       "    </tr>\n",
       "    <tr>\n",
       "      <th>1</th>\n",
       "      <td>11-01-2013</td>\n",
       "      <td>14.18</td>\n",
       "      <td>35.36</td>\n",
       "      <td>11.16</td>\n",
       "      <td>9.78</td>\n",
       "      <td>12.02</td>\n",
       "      <td>4.39</td>\n",
       "      <td>4.06</td>\n",
       "      <td>12.02</td>\n",
       "      <td>2013-11-01</td>\n",
       "      <td>2013</td>\n",
       "      <td>11</td>\n",
       "      <td>Kasım</td>\n",
       "    </tr>\n",
       "    <tr>\n",
       "      <th>2</th>\n",
       "      <td>18-01-2013</td>\n",
       "      <td>14.17</td>\n",
       "      <td>33.73</td>\n",
       "      <td>11.34</td>\n",
       "      <td>9.76</td>\n",
       "      <td>11.94</td>\n",
       "      <td>4.29</td>\n",
       "      <td>4.19</td>\n",
       "      <td>12.09</td>\n",
       "      <td>2013-01-18</td>\n",
       "      <td>2013</td>\n",
       "      <td>1</td>\n",
       "      <td>Ocak</td>\n",
       "    </tr>\n",
       "    <tr>\n",
       "      <th>3</th>\n",
       "      <td>25-01-2013</td>\n",
       "      <td>13.97</td>\n",
       "      <td>30.01</td>\n",
       "      <td>11.17</td>\n",
       "      <td>9.66</td>\n",
       "      <td>11.62</td>\n",
       "      <td>3.92</td>\n",
       "      <td>4.09</td>\n",
       "      <td>12.07</td>\n",
       "      <td>2013-01-25</td>\n",
       "      <td>2013</td>\n",
       "      <td>1</td>\n",
       "      <td>Ocak</td>\n",
       "    </tr>\n",
       "  </tbody>\n",
       "</table>\n",
       "</div>"
      ],
      "text/plain": [
       "         Date  Personal Finance Credit Overdraft Account  Auto Credit  \\\n",
       "0  04-01-2013                    13.90             36.85        10.56   \n",
       "1  11-01-2013                    14.18             35.36        11.16   \n",
       "2  18-01-2013                    14.17             33.73        11.34   \n",
       "3  25-01-2013                    13.97             30.01        11.17   \n",
       "\n",
       "   Home Credit  Commercial Credit Commercial Credit (EUR)  \\\n",
       "0         9.90              12.62                    4.64   \n",
       "1         9.78              12.02                    4.39   \n",
       "2         9.76              11.94                    4.29   \n",
       "3         9.66              11.62                    3.92   \n",
       "\n",
       "  Commercial Credit (USD)  Consumer Credit Date_Format  Year  Month Month_Name  \n",
       "0                    4.54            11.99  2013-04-01  2013      4      Nisan  \n",
       "1                    4.06            12.02  2013-11-01  2013     11      Kasım  \n",
       "2                    4.19            12.09  2013-01-18  2013      1       Ocak  \n",
       "3                    4.09            12.07  2013-01-25  2013      1       Ocak  "
      ]
     },
     "execution_count": 119,
     "metadata": {},
     "output_type": "execute_result"
    }
   ],
   "source": [
    "df.head(4)"
   ]
  },
  {
   "cell_type": "code",
   "execution_count": 14,
   "id": "476e46cc",
   "metadata": {},
   "outputs": [],
   "source": [
    "df[\"Month\"]=df.Month.replace(\"Ocak\",1)\n",
    "df[\"Month_Name\"]=df[\"Month\"].replace({1:\"Ocak\",2:\"Şubat\",3:\"Mart\",4:\"Nisan\",5:\"Mayıs\",6:\"Haziran\",7:\"Temmuz\",8:\"Ağustos\",9:\"Eylül\",10:\"Ekim\",11:\"Kasım\",12:\"Aralık\"})\n"
   ]
  },
  {
   "cell_type": "code",
   "execution_count": 48,
   "id": "e74391b1",
   "metadata": {},
   "outputs": [
    {
     "data": {
      "text/html": [
       "<div>\n",
       "<style scoped>\n",
       "    .dataframe tbody tr th:only-of-type {\n",
       "        vertical-align: middle;\n",
       "    }\n",
       "\n",
       "    .dataframe tbody tr th {\n",
       "        vertical-align: top;\n",
       "    }\n",
       "\n",
       "    .dataframe thead th {\n",
       "        text-align: right;\n",
       "    }\n",
       "</style>\n",
       "<table border=\"1\" class=\"dataframe\">\n",
       "  <thead>\n",
       "    <tr style=\"text-align: right;\">\n",
       "      <th></th>\n",
       "      <th>Date</th>\n",
       "      <th>Personal Finance Credit</th>\n",
       "      <th>Overdraft Account</th>\n",
       "      <th>Auto Credit</th>\n",
       "      <th>Home Credit</th>\n",
       "      <th>Commercial Credit</th>\n",
       "      <th>Commercial Credit (EUR)</th>\n",
       "      <th>Commercial Credit (USD)</th>\n",
       "      <th>Consumer Credit</th>\n",
       "      <th>Date_Format</th>\n",
       "      <th>Year</th>\n",
       "      <th>Month</th>\n",
       "      <th>Month_Name</th>\n",
       "    </tr>\n",
       "  </thead>\n",
       "  <tbody>\n",
       "    <tr>\n",
       "      <th>0</th>\n",
       "      <td>04-01-2013</td>\n",
       "      <td>13.90</td>\n",
       "      <td>36.85</td>\n",
       "      <td>10.56</td>\n",
       "      <td>9.90</td>\n",
       "      <td>12.62</td>\n",
       "      <td>4.64</td>\n",
       "      <td>4.54</td>\n",
       "      <td>11.99</td>\n",
       "      <td>2013-04-01</td>\n",
       "      <td>2013</td>\n",
       "      <td>4</td>\n",
       "      <td>Nisan</td>\n",
       "    </tr>\n",
       "    <tr>\n",
       "      <th>1</th>\n",
       "      <td>11-01-2013</td>\n",
       "      <td>14.18</td>\n",
       "      <td>35.36</td>\n",
       "      <td>11.16</td>\n",
       "      <td>9.78</td>\n",
       "      <td>12.02</td>\n",
       "      <td>4.39</td>\n",
       "      <td>4.06</td>\n",
       "      <td>12.02</td>\n",
       "      <td>2013-11-01</td>\n",
       "      <td>2013</td>\n",
       "      <td>11</td>\n",
       "      <td>Kasım</td>\n",
       "    </tr>\n",
       "    <tr>\n",
       "      <th>2</th>\n",
       "      <td>18-01-2013</td>\n",
       "      <td>14.17</td>\n",
       "      <td>33.73</td>\n",
       "      <td>11.34</td>\n",
       "      <td>9.76</td>\n",
       "      <td>11.94</td>\n",
       "      <td>4.29</td>\n",
       "      <td>4.19</td>\n",
       "      <td>12.09</td>\n",
       "      <td>2013-01-18</td>\n",
       "      <td>2013</td>\n",
       "      <td>1</td>\n",
       "      <td>Ocak</td>\n",
       "    </tr>\n",
       "    <tr>\n",
       "      <th>3</th>\n",
       "      <td>25-01-2013</td>\n",
       "      <td>13.97</td>\n",
       "      <td>30.01</td>\n",
       "      <td>11.17</td>\n",
       "      <td>9.66</td>\n",
       "      <td>11.62</td>\n",
       "      <td>3.92</td>\n",
       "      <td>4.09</td>\n",
       "      <td>12.07</td>\n",
       "      <td>2013-01-25</td>\n",
       "      <td>2013</td>\n",
       "      <td>1</td>\n",
       "      <td>Ocak</td>\n",
       "    </tr>\n",
       "  </tbody>\n",
       "</table>\n",
       "</div>"
      ],
      "text/plain": [
       "         Date Personal Finance Credit Overdraft Account  Auto Credit  \\\n",
       "0  04-01-2013                   13.90             36.85        10.56   \n",
       "1  11-01-2013                   14.18             35.36        11.16   \n",
       "2  18-01-2013                   14.17             33.73        11.34   \n",
       "3  25-01-2013                   13.97             30.01        11.17   \n",
       "\n",
       "   Home Credit  Commercial Credit Commercial Credit (EUR)  \\\n",
       "0         9.90              12.62                    4.64   \n",
       "1         9.78              12.02                    4.39   \n",
       "2         9.76              11.94                    4.29   \n",
       "3         9.66              11.62                    3.92   \n",
       "\n",
       "  Commercial Credit (USD) Consumer Credit Date_Format  Year  Month Month_Name  \n",
       "0                    4.54           11.99  2013-04-01  2013      4      Nisan  \n",
       "1                    4.06           12.02  2013-11-01  2013     11      Kasım  \n",
       "2                    4.19           12.09  2013-01-18  2013      1       Ocak  \n",
       "3                    4.09           12.07  2013-01-25  2013      1       Ocak  "
      ]
     },
     "execution_count": 48,
     "metadata": {},
     "output_type": "execute_result"
    }
   ],
   "source": [
    "df.head(4)"
   ]
  },
  {
   "cell_type": "markdown",
   "id": "72f23af1",
   "metadata": {},
   "source": [
    "# DATA GÖRSELLEŞTİRME"
   ]
  },
  {
   "cell_type": "code",
   "execution_count": 49,
   "id": "0d1d4efc",
   "metadata": {},
   "outputs": [
    {
     "data": {
      "text/plain": [
       "<Axes: ylabel='Year'>"
      ]
     },
     "execution_count": 49,
     "metadata": {},
     "output_type": "execute_result"
    },
    {
     "data": {
      "image/png": "[encoded data removed]",
      "text/plain": [
       "<Figure size 640x480 with 1 Axes>"
      ]
     },
     "metadata": {},
     "output_type": "display_data"
    }
   ],
   "source": [
    "sbn.lineplot(df.Year.value_counts(),color=\"g\")"
   ]
  },
  {
   "cell_type": "code",
   "execution_count": 50,
   "id": "2481635f",
   "metadata": {},
   "outputs": [
    {
     "data": {
      "text/plain": [
       "<Axes: >"
      ]
     },
     "execution_count": 50,
     "metadata": {},
     "output_type": "execute_result"
    },
    {
     "data": {
      "image/png": "[encoded data removed]",
      "text/plain": [
       "<Figure size 640x480 with 1 Axes>"
      ]
     },
     "metadata": {},
     "output_type": "display_data"
    }
   ],
   "source": [
    "df.Month_Name.value_counts().plot.barh(color=\"#900C3F\")"
   ]
  },
  {
   "cell_type": "markdown",
   "id": "b480ef5f",
   "metadata": {},
   "source": [
    "# Yıllara Göre Ev Kredisi Oranları"
   ]
  },
  {
   "cell_type": "markdown",
   "id": "131015e3",
   "metadata": {},
   "source": [
    "Öncelikle \"Home Credit\" kolonunun dtype'ı float olarak düzeltilir. Bu sayede veriler üzerinde gruplama yapma imkanı sağlanmış olur."
   ]
  },
  {
   "cell_type": "code",
   "execution_count": null,
   "id": "75546ba4",
   "metadata": {},
   "outputs": [],
   "source": [
    "df[\"Home Credit\"]=df[\"Home Credit\"].astype(float)\n",
    "df[\"Home Credit\"]"
   ]
  },
  {
   "cell_type": "code",
   "execution_count": 28,
   "id": "296f0e40",
   "metadata": {},
   "outputs": [
    {
     "data": {
      "text/html": [
       "<div>\n",
       "<style scoped>\n",
       "    .dataframe tbody tr th:only-of-type {\n",
       "        vertical-align: middle;\n",
       "    }\n",
       "\n",
       "    .dataframe tbody tr th {\n",
       "        vertical-align: top;\n",
       "    }\n",
       "\n",
       "    .dataframe thead th {\n",
       "        text-align: right;\n",
       "    }\n",
       "</style>\n",
       "<table border=\"1\" class=\"dataframe\">\n",
       "  <thead>\n",
       "    <tr style=\"text-align: right;\">\n",
       "      <th></th>\n",
       "      <th>count</th>\n",
       "      <th>mean</th>\n",
       "      <th>std</th>\n",
       "      <th>min</th>\n",
       "      <th>25%</th>\n",
       "      <th>50%</th>\n",
       "      <th>75%</th>\n",
       "      <th>max</th>\n",
       "    </tr>\n",
       "    <tr>\n",
       "      <th>Year</th>\n",
       "      <th></th>\n",
       "      <th></th>\n",
       "      <th></th>\n",
       "      <th></th>\n",
       "      <th></th>\n",
       "      <th></th>\n",
       "      <th></th>\n",
       "      <th></th>\n",
       "    </tr>\n",
       "  </thead>\n",
       "  <tbody>\n",
       "    <tr>\n",
       "      <th>2013</th>\n",
       "      <td>52.0</td>\n",
       "      <td>9.690000</td>\n",
       "      <td>0.843610</td>\n",
       "      <td>8.29</td>\n",
       "      <td>9.0550</td>\n",
       "      <td>9.605</td>\n",
       "      <td>10.5600</td>\n",
       "      <td>11.00</td>\n",
       "    </tr>\n",
       "    <tr>\n",
       "      <th>2014</th>\n",
       "      <td>52.0</td>\n",
       "      <td>11.861731</td>\n",
       "      <td>1.058672</td>\n",
       "      <td>10.69</td>\n",
       "      <td>10.9825</td>\n",
       "      <td>11.345</td>\n",
       "      <td>12.9850</td>\n",
       "      <td>13.65</td>\n",
       "    </tr>\n",
       "    <tr>\n",
       "      <th>2015</th>\n",
       "      <td>52.0</td>\n",
       "      <td>12.313846</td>\n",
       "      <td>1.328843</td>\n",
       "      <td>10.75</td>\n",
       "      <td>10.9775</td>\n",
       "      <td>12.160</td>\n",
       "      <td>13.8225</td>\n",
       "      <td>14.41</td>\n",
       "    </tr>\n",
       "    <tr>\n",
       "      <th>2016</th>\n",
       "      <td>53.0</td>\n",
       "      <td>13.251132</td>\n",
       "      <td>1.144206</td>\n",
       "      <td>11.40</td>\n",
       "      <td>12.0700</td>\n",
       "      <td>13.770</td>\n",
       "      <td>14.2900</td>\n",
       "      <td>14.50</td>\n",
       "    </tr>\n",
       "    <tr>\n",
       "      <th>2017</th>\n",
       "      <td>52.0</td>\n",
       "      <td>12.136731</td>\n",
       "      <td>0.843342</td>\n",
       "      <td>10.95</td>\n",
       "      <td>11.4250</td>\n",
       "      <td>11.775</td>\n",
       "      <td>12.9725</td>\n",
       "      <td>13.83</td>\n",
       "    </tr>\n",
       "    <tr>\n",
       "      <th>2018</th>\n",
       "      <td>52.0</td>\n",
       "      <td>19.286538</td>\n",
       "      <td>6.356188</td>\n",
       "      <td>11.64</td>\n",
       "      <td>14.4725</td>\n",
       "      <td>14.935</td>\n",
       "      <td>27.5025</td>\n",
       "      <td>29.28</td>\n",
       "    </tr>\n",
       "    <tr>\n",
       "      <th>2019</th>\n",
       "      <td>52.0</td>\n",
       "      <td>17.747115</td>\n",
       "      <td>4.545173</td>\n",
       "      <td>12.64</td>\n",
       "      <td>13.0175</td>\n",
       "      <td>17.240</td>\n",
       "      <td>21.3875</td>\n",
       "      <td>27.70</td>\n",
       "    </tr>\n",
       "    <tr>\n",
       "      <th>2020</th>\n",
       "      <td>52.0</td>\n",
       "      <td>12.467692</td>\n",
       "      <td>2.637251</td>\n",
       "      <td>9.01</td>\n",
       "      <td>11.2125</td>\n",
       "      <td>11.575</td>\n",
       "      <td>14.8425</td>\n",
       "      <td>18.71</td>\n",
       "    </tr>\n",
       "    <tr>\n",
       "      <th>2021</th>\n",
       "      <td>53.0</td>\n",
       "      <td>17.833208</td>\n",
       "      <td>0.354145</td>\n",
       "      <td>16.94</td>\n",
       "      <td>17.7600</td>\n",
       "      <td>17.890</td>\n",
       "      <td>18.0000</td>\n",
       "      <td>18.61</td>\n",
       "    </tr>\n",
       "    <tr>\n",
       "      <th>2022</th>\n",
       "      <td>52.0</td>\n",
       "      <td>19.058269</td>\n",
       "      <td>1.280327</td>\n",
       "      <td>17.52</td>\n",
       "      <td>18.2250</td>\n",
       "      <td>18.460</td>\n",
       "      <td>19.9950</td>\n",
       "      <td>21.73</td>\n",
       "    </tr>\n",
       "  </tbody>\n",
       "</table>\n",
       "</div>"
      ],
      "text/plain": [
       "      count       mean       std    min      25%     50%      75%    max\n",
       "Year                                                                    \n",
       "2013   52.0   9.690000  0.843610   8.29   9.0550   9.605  10.5600  11.00\n",
       "2014   52.0  11.861731  1.058672  10.69  10.9825  11.345  12.9850  13.65\n",
       "2015   52.0  12.313846  1.328843  10.75  10.9775  12.160  13.8225  14.41\n",
       "2016   53.0  13.251132  1.144206  11.40  12.0700  13.770  14.2900  14.50\n",
       "2017   52.0  12.136731  0.843342  10.95  11.4250  11.775  12.9725  13.83\n",
       "2018   52.0  19.286538  6.356188  11.64  14.4725  14.935  27.5025  29.28\n",
       "2019   52.0  17.747115  4.545173  12.64  13.0175  17.240  21.3875  27.70\n",
       "2020   52.0  12.467692  2.637251   9.01  11.2125  11.575  14.8425  18.71\n",
       "2021   53.0  17.833208  0.354145  16.94  17.7600  17.890  18.0000  18.61\n",
       "2022   52.0  19.058269  1.280327  17.52  18.2250  18.460  19.9950  21.73"
      ]
     },
     "execution_count": 28,
     "metadata": {},
     "output_type": "execute_result"
    }
   ],
   "source": [
    "df.groupby('Year')['Home Credit'].describe()\n",
    "## Yıllara göre Home Credit değerlerinin toplam,ortalama,standart sapma,min ve max değerleri alınır."
   ]
  },
  {
   "cell_type": "code",
   "execution_count": 38,
   "id": "991702a9",
   "metadata": {},
   "outputs": [
    {
     "data": {
      "text/plain": [
       "<Axes: title={'center': 'Yıllara Göre Ev Kredisi Oranları'}, xlabel='Year', ylabel='Home Credit'>"
      ]
     },
     "execution_count": 38,
     "metadata": {},
     "output_type": "execute_result"
    },
    {
     "data": {
      "image/png": "[encoded data removed]",
      "text/plain": [
       "<Figure size 640x480 with 1 Axes>"
      ]
     },
     "metadata": {},
     "output_type": "display_data"
    }
   ],
   "source": [
    "df.groupby('Year')['Home Credit'].mean().plot.bar(color=\"#E70C60\",ylabel=\"Home Credit\",title=\"Yıllara Göre Ev Kredisi Oranları\")\n",
    "# Elde edilmek istenen veri Yıllara göre Home Credit(Ev Kredisi) ortalamasıdır."
   ]
  },
  {
   "cell_type": "markdown",
   "id": "6b38428d",
   "metadata": {},
   "source": [
    "Elde edilen sonuca göre 2018 yılında ev kredisi verileri max seviyededir.2013 yılında ise minimum bir seviyededir."
   ]
  },
  {
   "cell_type": "markdown",
   "id": "9393dd9b",
   "metadata": {},
   "source": [
    "# Ticari Kredilerin Araba Kredilerine Göre Yıl Bazlı Kıyaslaması"
   ]
  },
  {
   "cell_type": "code",
   "execution_count": 40,
   "id": "4d2fd4cb",
   "metadata": {},
   "outputs": [],
   "source": [
    "df[\"Commercial Credit\"]=df[\"Commercial Credit\"].astype(float)\n",
    "df[\"Auto Credit\"]=df[\"Auto Credit\"].astype(float)\n",
    "## Sağlıklı bir veri elde edebilmek için veriler str formattan float formata çevrilir."
   ]
  },
  {
   "cell_type": "code",
   "execution_count": 107,
   "id": "a7d4da66",
   "metadata": {},
   "outputs": [
    {
     "data": {
      "text/plain": [
       "<Axes: xlabel='Year'>"
      ]
     },
     "execution_count": 107,
     "metadata": {},
     "output_type": "execute_result"
    },
    {
     "data": {
      "image/png": "[encoded data removed]",
      "text/plain": [
       "<Figure size 640x480 with 1 Axes>"
      ]
     },
     "metadata": {},
     "output_type": "display_data"
    }
   ],
   "source": [
    "df.groupby(\"Year\").aggregate({\"Auto Credit\":\"mean\",\"Commercial Credit\":\"mean\"}).plot.line(markersize=8,marker='o')"
   ]
  },
  {
   "cell_type": "markdown",
   "id": "09c5e078",
   "metadata": {},
   "source": [
    "Elde edilen grafikte Araba Kredileri ile Ticari Kredilerin arasında ki makasın ilk defa 2019 yılında açıldığını görmekteyiz.Araba Kredileri 2019 yılından itibaren daima Ticari Kredilerine oranla yüksek olarak ilerlemiştir."
   ]
  },
  {
   "cell_type": "markdown",
   "id": "a0845b74",
   "metadata": {},
   "source": [
    "# Tüm Kredi Türlerinin Maksimum Kredi Oranının Yıl Bazlı İncelemesi"
   ]
  },
  {
   "cell_type": "code",
   "execution_count": 114,
   "id": "a3b97383",
   "metadata": {},
   "outputs": [],
   "source": [
    "df[\"Personal Finance Credit\"]=df[\"Personal Finance Credit\"].astype(float)\n",
    "df[\"Consumer Credit\"]=df[\"Consumer Credit\"].astype(float)"
   ]
  },
  {
   "cell_type": "code",
   "execution_count": 290,
   "id": "4873d379",
   "metadata": {},
   "outputs": [
    {
     "data": {
      "image/png": "[encoded data removed]",
      "text/plain": [
       "<Figure size 1500x1000 with 1 Axes>"
      ]
     },
     "metadata": {},
     "output_type": "display_data"
    }
   ],
   "source": [
    "year_month_creditrates= df.groupby([\"Year\"])[[\"Personal Finance Credit\",\"Overdraft Account\",\"Auto Credit\",\"Home Credit\",\"Commercial Credit\",\"Consumer Credit\"]].max().plot.bar(alpha=0.9,lw=80,figsize=(15,10),color=([\"#DAF7A6\",\"#FFC300\",\"#FF5733\",\"#C70039\",\"#900C3F\",\"#581845\"]))"
   ]
  },
  {
   "cell_type": "markdown",
   "id": "b04e955a",
   "metadata": {},
   "source": [
    "Yıllara bakıldığında tüm kredi oranlarının max değelerine göre bir değerlendirme yaparsak, krediler arasında oran genel düzeyde korunmuştur. Yıllara göre olan değişiklikler tüm kredileri aynı oranda etkilemiştir."
   ]
  },
  {
   "cell_type": "code",
   "execution_count": null,
   "id": "504d6448",
   "metadata": {},
   "outputs": [],
   "source": []
  },
  {
   "cell_type": "code",
   "execution_count": null,
   "id": "c56f3adb",
   "metadata": {},
   "outputs": [],
   "source": []
  },
  {
   "cell_type": "code",
   "execution_count": null,
   "id": "7840d7bc",
   "metadata": {},
   "outputs": [],
   "source": []
  }
 ],
 "metadata": {
  "kernelspec": {
   "display_name": "Python 3 (ipykernel)",
   "language": "python",
   "name": "python3"
  },
  "language_info": {
   "codemirror_mode": {
    "name": "ipython",
    "version": 3
   },
   "file_extension": ".py",
   "mimetype": "text/x-python",
   "name": "python",
   "nbconvert_exporter": "python",
   "pygments_lexer": "ipython3",
   "version": "3.10.9"
  }
 },
 "nbformat": 4,
 "nbformat_minor": 5
}
